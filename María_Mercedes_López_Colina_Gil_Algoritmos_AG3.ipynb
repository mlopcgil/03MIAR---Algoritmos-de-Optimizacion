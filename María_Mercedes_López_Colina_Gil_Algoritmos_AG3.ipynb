{
  "nbformat": 4,
  "nbformat_minor": 0,
  "metadata": {
    "colab": {
      "provenance": [],
      "authorship_tag": "ABX9TyMkfykR0JEKlghwtDKSKPS0",
      "include_colab_link": true
    },
    "kernelspec": {
      "name": "python3",
      "display_name": "Python 3"
    },
    "language_info": {
      "name": "python"
    }
  },
  "cells": [
    {
      "cell_type": "markdown",
      "metadata": {
        "id": "view-in-github",
        "colab_type": "text"
      },
      "source": [
        "<a href=\"https://colab.research.google.com/github/mlopcgil/03MIAR---Algoritmos-de-Optimizacion/blob/main/Mar%C3%ADa_Mercedes_L%C3%B3pez_Colina_Gil_Algoritmos_AG3.ipynb\" target=\"_parent\"><img src=\"https://colab.research.google.com/assets/colab-badge.svg\" alt=\"Open In Colab\"/></a>"
      ]
    },
    {
      "cell_type": "markdown",
      "source": [
        "AG3- Actividad Guiada 3\n",
        "\n",
        "Nombre: María Mercedes López-Colina Gil\n",
        "\n",
        "Link: https://colab.research.google.com/drive/1RYC-I7hgJNF3s7rVch5DUkLWcJQm-fK8?usp=sharing\n",
        "\n",
        "Github: https://github.com/mlopcgil/03MIAR---Algoritmos-de-Optimizacion"
      ],
      "metadata": {
        "id": "WP_ZqbpNBpwy"
      }
    },
    {
      "cell_type": "markdown",
      "source": [
        "#Carga de librerias"
      ],
      "metadata": {
        "id": "kpmH1TDgDYdL"
      }
    },
    {
      "cell_type": "code",
      "source": [
        "!pip install requests    #Hacer llamadas http a paginas de la red\n",
        "!pip install tsplib95    #Modulo para las instancias del problema del TSP"
      ],
      "metadata": {
        "colab": {
          "base_uri": "https://localhost:8080/"
        },
        "id": "98a5gP5TBlAJ",
        "outputId": "a118bb3f-5c0b-40be-9080-0ad6fffd37c4"
      },
      "execution_count": null,
      "outputs": [
        {
          "output_type": "stream",
          "name": "stdout",
          "text": [
            "Looking in indexes: https://pypi.org/simple, https://us-python.pkg.dev/colab-wheels/public/simple/\n",
            "Requirement already satisfied: requests in /usr/local/lib/python3.8/dist-packages (2.25.1)\n",
            "Requirement already satisfied: chardet<5,>=3.0.2 in /usr/local/lib/python3.8/dist-packages (from requests) (4.0.0)\n",
            "Requirement already satisfied: urllib3<1.27,>=1.21.1 in /usr/local/lib/python3.8/dist-packages (from requests) (1.24.3)\n",
            "Requirement already satisfied: certifi>=2017.4.17 in /usr/local/lib/python3.8/dist-packages (from requests) (2022.12.7)\n",
            "Requirement already satisfied: idna<3,>=2.5 in /usr/local/lib/python3.8/dist-packages (from requests) (2.10)\n",
            "Looking in indexes: https://pypi.org/simple, https://us-python.pkg.dev/colab-wheels/public/simple/\n",
            "Collecting tsplib95\n",
            "  Downloading tsplib95-0.7.1-py2.py3-none-any.whl (25 kB)\n",
            "Requirement already satisfied: tabulate~=0.8.7 in /usr/local/lib/python3.8/dist-packages (from tsplib95) (0.8.10)\n",
            "Requirement already satisfied: Click>=6.0 in /usr/local/lib/python3.8/dist-packages (from tsplib95) (7.1.2)\n",
            "Collecting networkx~=2.1\n",
            "  Downloading networkx-2.8.8-py3-none-any.whl (2.0 MB)\n",
            "\u001b[2K     \u001b[90m━━━━━━━━━━━━━━━━━━━━━━━━━━━━━━━━━━━━━━━━\u001b[0m \u001b[32m2.0/2.0 MB\u001b[0m \u001b[31m11.6 MB/s\u001b[0m eta \u001b[36m0:00:00\u001b[0m\n",
            "\u001b[?25hCollecting Deprecated~=1.2.9\n",
            "  Downloading Deprecated-1.2.13-py2.py3-none-any.whl (9.6 kB)\n",
            "Requirement already satisfied: wrapt<2,>=1.10 in /usr/local/lib/python3.8/dist-packages (from Deprecated~=1.2.9->tsplib95) (1.14.1)\n",
            "Installing collected packages: networkx, Deprecated, tsplib95\n",
            "  Attempting uninstall: networkx\n",
            "    Found existing installation: networkx 3.0\n",
            "    Uninstalling networkx-3.0:\n",
            "      Successfully uninstalled networkx-3.0\n",
            "Successfully installed Deprecated-1.2.13 networkx-2.8.8 tsplib95-0.7.1\n"
          ]
        }
      ]
    },
    {
      "cell_type": "markdown",
      "source": [
        "#Carga de los datos del problema"
      ],
      "metadata": {
        "id": "Lzf4HSTrDZvq"
      }
    },
    {
      "cell_type": "code",
      "source": [
        "import urllib.request #Hacer llamadas http a paginas de la red\n",
        "import tsplib95       #Modulo para las instancias del problema del TSP\n",
        "import math           #Modulo de funciones matematicas. Se usa para exp\n",
        "\n",
        "# Con estos comandos se descarga el fichero con el que vamos a trabajar (Matriz de distancias)\n",
        "file = \"swiss42.tsp\" ; \n",
        "urllib.request.urlretrieve(\"http://comopt.ifi.uni-heidelberg.de/software/TSPLIB95/tsp/swiss42.tsp.gz\", file + '.gz')\n",
        "!gzip -d swiss42.tsp.gz     # Por último, lo descomprimimos "
      ],
      "metadata": {
        "id": "uWpJaiwHC2Wa"
      },
      "execution_count": null,
      "outputs": []
    },
    {
      "cell_type": "code",
      "source": [
        "import numpy as np\n",
        "import matplotlib.pyplot as plt\n",
        "import imageio                    #Para construir las imagenes con gif\n",
        "from google.colab import files    #Para descargar ficheros generados con google colab\n",
        "from tempfile import mkstemp      #Para genera carpetas y ficheros temporales\n",
        "\n",
        "import random                     #Para generar valores aleatorios"
      ],
      "metadata": {
        "id": "08Sq93VuDIZB"
      },
      "execution_count": null,
      "outputs": []
    },
    {
      "cell_type": "code",
      "source": [
        "#Carga de datos y generación de objeto problem\n",
        "problem = tsplib95.load(file)\n",
        "\n",
        "Nodos = list(problem.get_nodes()) # con esta función se obtienen los nodos y se introducen en una lista\n",
        "\n",
        "Aristas = list(problem.get_edges()) # aquí hacemos lo mismo pero con las aristas\n",
        "print(problem)"
      ],
      "metadata": {
        "colab": {
          "base_uri": "https://localhost:8080/"
        },
        "id": "hvSxCoFKDLex",
        "outputId": "bc7c44c5-1f58-4f49-a86d-69b08b07dcd8"
      },
      "execution_count": null,
      "outputs": [
        {
          "output_type": "stream",
          "name": "stdout",
          "text": [
            "NAME: swiss42\n",
            "COMMENT: 42 Staedte Schweiz (Fricker)\n",
            "TYPE: TSP\n",
            "DIMENSION: 42\n",
            "EDGE_WEIGHT_TYPE: EXPLICIT\n",
            "EDGE_WEIGHT_FORMAT: FULL_MATRIX\n",
            "EDGE_WEIGHT_SECTION:\n",
            "0 15 30 23 32 55 33 37 92 114 92 110 96 90 74 76 82 67 72 78 82 159 122 131 206 112 57 28 43 70 65 66 37 103 84 125 129 72 126 141 183 124\n",
            "15 0 34 23 27 40 19 32 93 117 88 100 87 75 63 67 71 69 62 63 96 164 132 131 212 106 44 33 51 77 75 72 52 118 99 132 132 67 139 148 186 122\n",
            "30 34 0 11 18 57 36 65 62 84 64 89 76 93 95 100 104 98 57 88 99 130 100 101 179 86 51 4 18 43 45 95 45 115 93 152 159 100 112 114 153 94\n",
            "23 23 11 0 11 48 26 54 70 94 69 89 75 84 84 89 92 89 54 78 99 141 111 109 190 89 44 11 29 54 56 89 47 118 96 147 151 90 122 126 163 101\n",
            "32 27 18 11 0 40 20 58 67 92 61 78 65 76 83 89 91 95 43 72 110 141 116 105 190 81 34 19 35 57 63 97 58 129 107 156 158 92 129 127 161 95\n",
            "55 40 57 48 40 0 23 55 96 123 78 75 62 36 56 66 63 95 37 34 137 174 156 129 224 90 15 59 75 96 103 105 91 158 139 164 156 78 169 163 191 115\n",
            "33 19 36 26 20 23 0 45 85 111 75 82 69 60 63 70 71 85 44 52 115 161 136 122 210 91 25 37 54 78 81 90 68 136 116 150 147 76 148 147 180 111\n",
            "37 32 65 54 58 55 45 0 124 149 118 126 113 80 42 42 49 40 87 60 94 195 158 163 242 135 65 63 79 106 101 50 66 118 104 109 103 36 160 178 218 153\n",
            "92 93 62 70 67 96 85 124 0 28 29 68 63 122 148 155 156 159 67 129 148 78 80 39 129 46 82 65 55 40 61 157 97 159 135 212 221 159 110 72 95 35\n",
            "114 117 84 94 92 123 111 149 28 0 54 91 88 150 174 181 182 181 95 157 159 50 65 27 102 65 110 87 73 50 68 176 112 166 142 229 241 184 99 46 69 38\n",
            "92 88 64 69 61 78 75 118 29 54 0 39 34 99 134 142 141 157 44 110 161 103 109 52 154 22 63 68 66 61 81 158 107 175 151 216 219 150 137 100 115 37\n",
            "110 100 89 89 78 75 82 126 68 91 39 0 14 80 129 139 135 167 39 98 187 136 148 81 186 28 61 92 97 98 117 173 134 204 181 232 229 153 176 137 143 62\n",
            "96 87 76 75 65 62 69 113 63 88 34 14 0 72 117 128 124 153 26 88 174 136 142 82 187 32 48 79 85 89 106 159 121 191 168 219 216 140 168 134 145 64\n",
            "90 75 93 84 76 36 60 80 122 150 99 80 72 0 59 71 63 116 56 25 170 201 189 151 252 104 44 95 111 130 138 130 127 192 174 186 172 90 205 193 214 135\n",
            "74 63 95 84 83 56 63 42 148 174 134 129 117 59 0 11 8 63 93 35 135 223 195 184 273 146 71 95 113 138 138 81 107 159 146 132 113 32 200 209 243 171\n",
            "76 67 100 89 89 66 70 42 155 181 142 139 128 71 11 0 11 54 103 46 130 230 198 192 279 155 80 99 117 143 141 74 107 155 143 122 102 22 202 215 250 179\n",
            "82 71 104 92 91 63 71 49 156 182 141 135 124 63 8 11 0 65 100 39 140 232 203 192 281 153 78 103 121 147 146 85 115 164 152 133 112 33 208 218 251 178\n",
            "67 69 98 89 95 95 85 40 159 181 157 167 153 116 63 54 65 0 127 92 83 224 180 199 269 175 106 95 109 135 125 21 80 107 100 71 63 33 173 205 249 191\n",
            "72 62 57 54 43 37 44 87 67 95 44 39 26 56 93 103 100 127 0 67 153 145 139 96 196 53 23 60 70 81 95 134 101 172 149 194 190 115 160 138 159 80\n",
            "78 63 88 78 72 34 52 60 129 157 110 98 88 25 35 46 39 92 67 0 152 207 188 162 258 119 48 89 107 129 134 108 114 176 159 163 147 66 200 197 224 147\n",
            "82 96 99 99 110 137 115 94 148 159 161 187 174 170 135 130 140 83 153 152 0 188 128 184 222 183 139 95 95 110 91 62 54 24 23 81 110 113 108 164 217 184\n",
            "159 164 130 141 141 174 161 195 78 50 103 136 136 201 223 230 232 224 145 207 188 0 65 57 51 109 160 132 116 90 102 217 148 188 168 264 281 231 100 26 30 75\n",
            "122 132 100 111 116 156 136 158 80 65 109 148 142 189 195 198 203 180 139 188 128 65 0 91 94 126 145 100 82 60 57 167 99 126 106 208 230 194 36 39 94 103\n",
            "131 131 101 109 105 129 122 163 39 27 52 81 82 151 184 192 192 199 96 162 184 57 91 0 106 53 115 104 94 74 94 196 134 192 168 251 260 197 126 64 64 19\n",
            "206 212 179 190 190 224 210 242 129 102 154 186 187 252 273 279 281 269 196 258 222 51 94 106 0 158 211 180 163 136 145 259 190 218 200 302 323 278 120 65 49 124\n",
            "112 106 86 89 81 90 91 135 46 65 22 28 32 104 146 155 153 175 53 119 183 109 126 53 158 0 75 89 88 83 103 178 129 197 173 236 238 166 156 111 115 34\n",
            "57 44 51 44 34 15 25 65 82 110 63 61 48 44 71 80 78 106 23 48 139 160 145 115 211 75 0 53 68 86 95 114 90 160 139 173 168 92 162 150 176 101\n",
            "28 33 4 11 19 59 37 63 65 87 68 92 79 95 95 99 103 95 60 89 95 132 100 104 180 89 53 0 18 44 45 92 42 112 89 149 156 99 111 116 155 97\n",
            "43 51 18 29 35 75 54 79 55 73 66 97 85 111 113 117 121 109 70 107 95 116 82 94 163 88 68 18 0 27 27 103 42 109 85 157 168 115 94 98 140 90\n",
            "70 77 43 54 57 96 78 106 40 50 61 98 89 130 138 143 147 135 81 129 110 90 60 74 136 83 86 44 27 0 21 128 62 119 96 179 192 142 79 72 115 74\n",
            "65 75 45 56 63 103 81 101 61 68 81 117 106 138 138 141 146 125 95 134 91 102 57 94 145 103 95 45 27 21 0 115 46 98 75 163 179 136 67 81 129 95\n",
            "66 72 95 89 97 105 90 50 157 176 158 173 159 130 81 74 85 21 134 108 62 217 167 196 259 178 114 92 103 128 115 0 69 86 81 60 65 54 158 195 243 190\n",
            "37 52 45 47 58 91 68 66 97 112 107 134 121 127 107 107 115 80 101 114 54 148 99 134 190 129 90 42 42 62 46 69 0 71 49 117 133 98 95 127 175 132\n",
            "103 118 115 118 129 158 136 118 159 166 175 204 191 192 159 155 164 107 172 176 24 188 126 192 218 197 160 112 109 119 98 86 71 0 24 94 127 137 100 163 218 194\n",
            "84 99 93 96 107 139 116 104 135 142 151 181 168 174 146 143 152 100 149 159 23 168 106 168 200 173 139 89 85 96 75 81 49 24 0 104 133 127 85 143 197 170\n",
            "125 132 152 147 156 164 150 109 212 229 216 232 219 186 132 122 133 71 194 163 81 264 208 251 302 236 173 149 157 179 163 60 117 94 104 0 39 100 190 241 292 246\n",
            "129 132 159 151 158 156 147 103 221 241 219 229 216 172 113 102 112 63 190 147 110 281 230 260 323 238 168 156 168 192 179 65 133 127 133 39 0 81 216 259 307 253\n",
            "72 67 100 90 92 78 76 36 159 184 150 153 140 90 32 22 33 33 115 66 113 231 194 197 278 166 92 99 115 142 136 54 98 137 127 100 81 0 193 214 253 187\n",
            "126 139 112 122 129 169 148 160 110 99 137 176 168 205 200 202 208 173 160 200 108 100 36 126 120 156 162 111 94 79 67 158 95 100 85 190 216 193 0 74 129 137\n",
            "141 148 114 126 127 163 147 178 72 46 100 137 134 193 209 215 218 205 138 197 164 26 39 64 65 111 150 116 98 72 81 195 127 163 143 241 259 214 74 0 55 80\n",
            "183 186 153 163 161 191 180 218 95 69 115 143 145 214 243 250 251 249 159 224 217 30 94 64 49 115 176 155 140 115 129 243 175 218 197 292 307 253 129 55 0 81\n",
            "124 122 94 101 95 115 111 153 35 38 37 62 64 135 171 179 178 191 80 147 184 75 103 19 124 34 101 97 90 74 95 190 132 194 170 246 253 187 137 80 81 0\n",
            "EOF\n"
          ]
        }
      ]
    },
    {
      "cell_type": "markdown",
      "source": [
        "#Funciones básicas"
      ],
      "metadata": {
        "id": "VaWSHgaQDf6q"
      }
    },
    {
      "cell_type": "code",
      "source": [
        "     \n",
        "def crear_solucion(Nodos): \n",
        "  solucion = [Nodos[0]] \n",
        "  # se inicializa la variable solucion en el primer elemento de la lista nodos, es decir en el nodo 0\n",
        "  for n in Nodos[1:]:\n",
        "    solucion = solucion + [random.choice(list(set(Nodos) - set(solucion)))] \n",
        "    # aquí se coge un nodo que no ha sido elegido todavía\n",
        "  return solucion \n",
        "\n",
        "def distancia_total(solucion, problem):\n",
        "  distancia_total = 0\n",
        "  for i in range(len(solucion)-1):\n",
        "    distancia_total += problem.get_weight(solucion[i] ,solucion[i+1]) \n",
        "    # con la función get_weight se calcula la distancia entre dos nodos  \n",
        "  return distancia_total + problem.get_weight(solucion[len(solucion)-1] ,solucion[0])\n"
      ],
      "metadata": {
        "id": "zFp15g2PDQYw"
      },
      "execution_count": null,
      "outputs": []
    },
    {
      "cell_type": "markdown",
      "source": [
        "#Búsqueda aleatoria"
      ],
      "metadata": {
        "id": "y_DGo7BiDj-a"
      }
    },
    {
      "cell_type": "code",
      "source": [
        "\n",
        "def busqueda_aleatoria(problem, N):\n",
        "  Nodos = list(problem.get_nodes()) # se crea una lista con los nodos\n",
        "  \n",
        "  mejor_solucion = [] # se crea una lista vacía que va a contener las mejores soluciones\n",
        "  mejor_distancia = float('inf') # la variable mejor_distancia se inicializa el un valor alto, infinito                 \n",
        "  \n",
        "  for i in range(N): # se recorre N veces                              \n",
        "    solucion = crear_solucion(Nodos) # a partir de la función crear_solucion generada anteriormente se crea una solución\n",
        "    distancia = distancia_total(solucion, problem)  # y con la función distancia_total se calcula la distancia\n",
        "    \n",
        "    if distancia < mejor_distancia: # se mira si la nueva distancia es menor (mejor) que la mejor distancia establecida\n",
        "      mejor_solucion = solucion # si es así, esta pasa a ser la mejor solucion\n",
        "      mejor_distancia = distancia\n",
        "      \n",
        "\n",
        "  return mejor_solucion, mejor_distancia  \n",
        "\n",
        "    \n",
        "#Busqueda aleatoria con 1000 iteraciones    \n",
        "solucion, distancia = busqueda_aleatoria(problem, 1000)\n",
        "\n",
        "print(\"Mejor solución:\" , solucion) \n",
        "print(\"Distancia:\" , distancia)\n",
        " "
      ],
      "metadata": {
        "colab": {
          "base_uri": "https://localhost:8080/"
        },
        "id": "UeNnUyaFDSep",
        "outputId": "4abcd9e2-10e3-434f-a0c5-06edd1ec04ce"
      },
      "execution_count": null,
      "outputs": [
        {
          "output_type": "stream",
          "name": "stdout",
          "text": [
            "Mejor solución: [0, 25, 30, 22, 31, 1, 6, 2, 33, 19, 20, 34, 18, 11, 36, 24, 3, 7, 4, 29, 8, 26, 5, 13, 16, 17, 38, 40, 10, 27, 12, 23, 21, 28, 32, 41, 39, 9, 35, 37, 14, 15]\n",
            "Distancia: 3999\n"
          ]
        }
      ]
    },
    {
      "cell_type": "markdown",
      "source": [
        "#Busqueda Local 2-opt"
      ],
      "metadata": {
        "id": "leqycslGDrB0"
      }
    },
    {
      "cell_type": "code",
      "source": [
        "\n",
        "def genera_vecina(solucion):\n",
        "  # Con esta función se generan las soluciones vecinas. En N nodos, se van a generar (N-1).(N-2)/2 soluciones\n",
        "  \n",
        "  mejor_solucion = [] \n",
        "  # como en la función busqueda_aleatoria, aquí también se crea una lista vacía y se establece como mejor distancia un valor alto\n",
        "  mejor_distancia = float('inf')\n",
        "  for i in range(1,len(solucion)-1): # Se recorre en un bucle doble todos los nodos para evaluar todos los intercambios entre 2 nodos \n",
        "    for j in range(i+1, len(solucion)):\n",
        "      \n",
        "      # vecina es una nueva solución generada de intercambiar los nodos i,j\n",
        "      vecina = solucion[:i] + [solucion[j]] + solucion[i+1:j] + [solucion[i]] + solucion[j+1:]  \n",
        "\n",
        "      # se calcula la distancia de la nueva solución\n",
        "      distancia_vecina = distancia_total(vecina, problem)         \n",
        "\n",
        "      # en el caso de que esta nueva solución sea menor (mejor) que la anterior, se convierte en la nueva mejor distancia\n",
        "      if distancia_vecina <= mejor_distancia:\n",
        "        mejor_distancia = distancia_vecina\n",
        "        mejor_solucion = vecina\n",
        "  return mejor_solucion\n",
        "\n",
        "print(\"Distancia Solucion Incial:\" , distancia_total(solucion, problem))\n",
        " \n",
        "\n",
        "nueva_solucion = genera_vecina(solucion)\n",
        "print(\"Distancia Mejor Solucion Local:\", distancia_total(nueva_solucion, problem))"
      ],
      "metadata": {
        "colab": {
          "base_uri": "https://localhost:8080/"
        },
        "id": "I7pbf6_nDoWR",
        "outputId": "bde963dc-ef2d-4bf2-f11c-47f51d61f8f7"
      },
      "execution_count": null,
      "outputs": [
        {
          "output_type": "stream",
          "name": "stdout",
          "text": [
            "Distancia Solucion Incial: 3999\n",
            "Distancia Mejor Solucion Local: 3663\n"
          ]
        }
      ]
    },
    {
      "cell_type": "code",
      "source": [
        "#Busqueda Local:\n",
        "#  - Sobre el operador de vecindad 2-opt(funcion genera_vecina)\n",
        "\n",
        "def busqueda_local(problem):\n",
        "  mejor_solucion = []\n",
        "  \n",
        "  solucion_referencia = crear_solucion(Nodos) # se crea una solución inicial con la función crear_solucion\n",
        "  mejor_distancia = distancia_total(solucion_referencia, problem)\n",
        "\n",
        "  iteracion=0 # se inicializa la variable iteración en 0\n",
        "  while(1): # en este caso no hay un criterio de parada, dejará de ejecutarse cuando no sea posible mejorar\n",
        "    iteracion +=1         #Incrementamos el contador\n",
        "\n",
        "    # usamos la función genera_vecina para encontrar la mejor solución vecina\n",
        "    vecina = genera_vecina(solucion_referencia)\n",
        "\n",
        "    # y calculamos su distancia\n",
        "    distancia_vecina = distancia_total(vecina, problem)\n",
        " \n",
        "    #Si es mejor que la solución ya dada, se cambia\n",
        "    if distancia_vecina < mejor_distancia:\n",
        "      mejor_solucion = vecina            \n",
        "      mejor_distancia = distancia_vecina\n",
        "\n",
        "    else: \n",
        "      return mejor_solucion, mejor_distancia, iteracion\n",
        "      \n",
        "    solucion_referencia = vecina\n",
        " \n",
        " \n",
        "solucion, distancia, iteracion = busqueda_local(problem ) \n",
        "\n",
        "print(f\"En la iteracion {iteracion} la mejor solución encontrada es: {solucion}\") \n",
        "print(f\"Distancia: {distancia}\")\n"
      ],
      "metadata": {
        "colab": {
          "base_uri": "https://localhost:8080/"
        },
        "id": "7GX63RMpDvCp",
        "outputId": "e0e5a1e5-2a7e-4ef8-e1f7-9754e8650d8c"
      },
      "execution_count": null,
      "outputs": [
        {
          "output_type": "stream",
          "name": "stdout",
          "text": [
            "En la iteracion 37 la mejor solución encontrada es: [0, 27, 2, 3, 4, 26, 5, 6, 1, 17, 31, 36, 35, 20, 33, 34, 38, 30, 32, 28, 29, 8, 10, 41, 9, 22, 39, 21, 24, 40, 23, 25, 11, 12, 18, 13, 19, 14, 16, 15, 37, 7]\n",
            "Distancia: 1524\n"
          ]
        }
      ]
    },
    {
      "cell_type": "markdown",
      "source": [
        "#Simulated Annealing"
      ],
      "metadata": {
        "id": "-3qlmdipD03b"
      }
    },
    {
      "cell_type": "code",
      "source": [
        "\n",
        "def genera_vecina_aleatorio(solucion):\n",
        "\n",
        "  i,j = sorted(random.sample(range(1, len(solucion)), 2)) # con la función random se eligen de manera aleatoria dos nodos\n",
        "  \n",
        "  return solucion[:i] + [solucion[j]] + solucion[i+1:j] + [solucion[i]] + solucion[j+1:] \n",
        "  # se genera una nueva solución resultado de haber intercambiado los dos nodos elegidos aleatoriamente\n",
        "  \n",
        " \n",
        "genera_vecina_aleatorio(solucion) \n"
      ],
      "metadata": {
        "colab": {
          "base_uri": "https://localhost:8080/"
        },
        "id": "o3kNYK1bDyOw",
        "outputId": "6b031df4-b6fa-4e44-e5a8-b5fca4dcdff7"
      },
      "execution_count": null,
      "outputs": [
        {
          "output_type": "execute_result",
          "data": {
            "text/plain": [
              "[0,\n",
              " 25,\n",
              " 30,\n",
              " 22,\n",
              " 31,\n",
              " 1,\n",
              " 6,\n",
              " 2,\n",
              " 33,\n",
              " 19,\n",
              " 20,\n",
              " 34,\n",
              " 18,\n",
              " 11,\n",
              " 36,\n",
              " 24,\n",
              " 3,\n",
              " 7,\n",
              " 4,\n",
              " 29,\n",
              " 8,\n",
              " 26,\n",
              " 5,\n",
              " 13,\n",
              " 16,\n",
              " 10,\n",
              " 38,\n",
              " 40,\n",
              " 17,\n",
              " 27,\n",
              " 12,\n",
              " 23,\n",
              " 21,\n",
              " 28,\n",
              " 32,\n",
              " 41,\n",
              " 39,\n",
              " 9,\n",
              " 35,\n",
              " 37,\n",
              " 14,\n",
              " 15]"
            ]
          },
          "metadata": {},
          "execution_count": 9
        }
      ]
    },
    {
      "cell_type": "code",
      "source": [
        "def recocido_simulado(problem, TEMPERATURA ):\n",
        "  #problem = datos del problema\n",
        "  \n",
        "  solucion_referencia = crear_solucion(Nodos) # generamos una solución con la función crear_solucion\n",
        "  distancia_referencia = distancia_total(solucion_referencia, problem) # y calculamos la distancia con la función distancia_total\n",
        "  \n",
        "  mejor_solucion = []\n",
        "  mejor_distancia = float('inf') # establecemos como mejor_distancia un valor alto\n",
        "  \n",
        "  \n",
        "  N=0\n",
        "  while TEMPERATURA > .0001:\n",
        "    N+=1\n",
        "    # se crea una solución vecina\n",
        "    vecina =genera_vecina_aleatorio(solucion_referencia)\n",
        "    \n",
        "    # y se calcula la distancia de este valor\n",
        "    distancia_vecina = distancia_total(vecina, problem)\n",
        "      \n",
        "    # si es mejor que la distancia establecida se cambia y se convierte en la mejor solución\n",
        "    if distancia_vecina < mejor_distancia:\n",
        "        mejor_solucion = vecina\n",
        "        mejor_distancia = distancia_vecina\n",
        "    \n",
        "    # si es mejor que la distancia de referencia se cambia y se convierte en la solución de referencia\n",
        "    # y en el caso de que sea peor se cambia dependiendo de si la solución nueva es peor que la de referencia, que es una exponencial\n",
        "    # cuanto mayor sea la temperatura y más pequeña sea la diferencia de costes, mayor es la probabilidad de aceptar peores soluciones\n",
        "    if distancia_vecina < distancia_referencia or random.random() <  math.exp(-1*abs(distancia_referencia - distancia_vecina) /TEMPERATURA) :\n",
        "      solucion_referencia = vecina\n",
        "      distancia_referencia = distancia_vecina\n",
        "\n",
        "    # utilizamos como mecanismo de enfriamiento, el descenso de temperatura con descenso exponencial\n",
        "    TEMPERATURA = TEMPERATURA*0.99\n",
        " \n",
        "  return mejor_solucion, mejor_distancia\n",
        "\n",
        "solucion, distancia  = recocido_simulado(problem, 10000000)\n",
        "\n",
        "print(f\"La mejor solución encontrada es {solucion}\")\n",
        "print(f\"con una distancia total de {distancia}\")\n"
      ],
      "metadata": {
        "colab": {
          "base_uri": "https://localhost:8080/"
        },
        "id": "HM79OaSAD9zJ",
        "outputId": "7e42087f-dd48-4528-9aba-99a3d3ce2afc"
      },
      "execution_count": null,
      "outputs": [
        {
          "output_type": "stream",
          "name": "stdout",
          "text": [
            "La mejor solución encontrada es [0, 5, 12, 11, 25, 41, 8, 2, 4, 3, 20, 33, 34, 38, 24, 40, 23, 26, 18, 10, 9, 21, 39, 28, 27, 1, 6, 14, 16, 37, 17, 31, 32, 22, 29, 30, 36, 35, 13, 19, 15, 7]\n",
            "con una distancia total de 2225\n"
          ]
        }
      ]
    },
    {
      "cell_type": "code",
      "source": [],
      "metadata": {
        "id": "HcuMoEW0EAxh"
      },
      "execution_count": null,
      "outputs": []
    }
  ]
}