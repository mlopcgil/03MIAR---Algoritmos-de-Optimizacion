{
  "nbformat": 4,
  "nbformat_minor": 0,
  "metadata": {
    "colab": {
      "provenance": [],
      "authorship_tag": "ABX9TyN6YdNw4SEka9UdHJ+UBAwJ",
      "include_colab_link": true
    },
    "kernelspec": {
      "name": "python3",
      "display_name": "Python 3"
    },
    "language_info": {
      "name": "python"
    }
  },
  "cells": [
    {
      "cell_type": "markdown",
      "metadata": {
        "id": "view-in-github",
        "colab_type": "text"
      },
      "source": [
        "<a href=\"https://colab.research.google.com/github/mlopcgil/03MIAR---Algoritmos-de-Optimizacion/blob/main/Algoritmos_Mar%C3%ADa_Mercedes_L%C3%B3pez_Colina_AG1.ipynb\" target=\"_parent\"><img src=\"https://colab.research.google.com/assets/colab-badge.svg\" alt=\"Open In Colab\"/></a>"
      ]
    },
    {
      "cell_type": "code",
      "execution_count": null,
      "metadata": {
        "id": "4Ky8VbNYQZpG"
      },
      "outputs": [],
      "source": []
    },
    {
      "cell_type": "markdown",
      "source": [
        "Nombre: María Mercedes López- Colina Gil\n",
        "\n",
        "Link: https://colab.research.google.com/drive/12udftkLtt-68n1lu1UHGYYOT1V0xRHLd?usp=sharing\n",
        "\n",
        "Github: https://github.com/mlopcgil/03MIAR---Algoritmos-de-Optimizacion"
      ],
      "metadata": {
        "id": "57dxwUBXQrfj"
      }
    },
    {
      "cell_type": "markdown",
      "source": [
        "## Torres de Hanói"
      ],
      "metadata": {
        "id": "zrodrpwbd44t"
      }
    },
    {
      "cell_type": "code",
      "source": [
        "#Torres de Hanói\n",
        "\n",
        "def Torres_Hanoi(N, desde, hasta):\n",
        "  #N número de fichas \n",
        "  #desde = nº poste desde donde se lleva la ficha\n",
        "  #hasta = nº poste al que llega la ficha\n",
        "\n",
        "  if N == 1:\n",
        "    print(f\"Lleva la ficha desde {desde} hasta {hasta}\")\n",
        "  else:\n",
        "    Torres_Hanoi(N-1, desde, 6-desde-hasta) # 6 hace referencia a la suma de los postes: 1+2+3\n",
        "    print(f\"Lleva la ficha desde {desde} hasta {hasta}\")\n",
        "    Torres_Hanoi(N-1, 6-desde-hasta, hasta)\n",
        "\n",
        "Torres_Hanoi(3, 1, 3)"
      ],
      "metadata": {
        "colab": {
          "base_uri": "https://localhost:8080/"
        },
        "id": "EAqyiDP_RD6V",
        "outputId": "2d9004d7-9f36-48da-e74f-6c6b276af5f6"
      },
      "execution_count": null,
      "outputs": [
        {
          "output_type": "stream",
          "name": "stdout",
          "text": [
            "Lleva la ficha desde 1 hasta 3\n",
            "Lleva la ficha desde 1 hasta 2\n",
            "Lleva la ficha desde 3 hasta 2\n",
            "Lleva la ficha desde 1 hasta 3\n",
            "Lleva la ficha desde 2 hasta 1\n",
            "Lleva la ficha desde 2 hasta 3\n",
            "Lleva la ficha desde 1 hasta 3\n"
          ]
        }
      ]
    },
    {
      "cell_type": "markdown",
      "source": [
        "## Cambio de monedas"
      ],
      "metadata": {
        "id": "8xRduRV1hyw1"
      }
    },
    {
      "cell_type": "code",
      "source": [
        "def cambio_monedas(cantidad, sistema):\n",
        "  # Se crea un diccionario donde se van a ir guardando como clave los elementos de la lista \n",
        "  # de sistema y como valor el número de veces que son usados\n",
        "  solucion = {}\n",
        "  for i in sistema:\n",
        "    # Al estar la lista ordenada de manera descendente, el primer elemento que se estudia es el mayor\n",
        "    # Se divide la cantidad entre cada uno de los elementos\n",
        "    monedas = int(cantidad/i)\n",
        "    # Se inserta en el diccionario\n",
        "    solucion[i] = monedas\n",
        "    # Se resta la cantidad ya asignada para hacer en la siguiente iteración del bucle la división sobre la cantidad restante\n",
        "    cantidad -= monedas*i\n",
        "    # Cuando la cantidad sea 0, es decir toda la cantidad ya haya sido asignada a los elementos, se devuelve la solución\n",
        "    if cantidad == 0:\n",
        "      return solucion\n",
        "\n",
        "cambio_monedas(48, [5,4,1]) # es necesario tener una monedad unitaria para que se puedan dar todos los casos"
      ],
      "metadata": {
        "colab": {
          "base_uri": "https://localhost:8080/"
        },
        "id": "qhtqYTifWoKs",
        "outputId": "257139ff-5996-48c7-bd79-52e1f8d250f5"
      },
      "execution_count": null,
      "outputs": [
        {
          "output_type": "execute_result",
          "data": {
            "text/plain": [
              "{5: 9, 4: 0, 1: 3}"
            ]
          },
          "metadata": {},
          "execution_count": 2
        }
      ]
    },
    {
      "cell_type": "markdown",
      "source": [
        "## Problema de las 4 reinas"
      ],
      "metadata": {
        "id": "z34AtCQHly7s"
      }
    },
    {
      "cell_type": "code",
      "source": [
        "def es_prometedora(solucion, etapa):\n",
        "  # Se pueden descartar nodos mediante la aplicación de algunas reglas sencillas para no evaluar el árbol completo\n",
        "  # Con esta función se mira si hay dos reinas en la misma fila o diagonal, ya que, si es así, no será válida la solución\n",
        "  for i in range(etapa+1):\n",
        "    # Con la función count se mira que no haya más de 1 solución en la misma fila\n",
        "    if solucion.count(solucion[i]) > 1:\n",
        "      return False\n",
        "    \n",
        "    # En este bucle se comprueba la diagonal\n",
        "    for j in range(i+1, etapa+1):\n",
        "      if abs(i-j) == abs(solucion[i]-solucion[j]):\n",
        "        return False\n",
        "  return True"
      ],
      "metadata": {
        "id": "upEvmKGXRgjH"
      },
      "execution_count": null,
      "outputs": []
    },
    {
      "cell_type": "code",
      "source": [
        "def escribe_solucion(solucion):\n",
        "  # Esta función sirve para mostrar gráficamente la posición de las reinas\n",
        "  n = len(solucion)\n",
        "  for x in range(n):\n",
        "    print(\" \")\n",
        "    for i in range(n):\n",
        "      if solucion[i] == x+1:\n",
        "        # Cuando coincida con uno de los elementos de la lista, se dibujará una X\n",
        "        print(\" X \", end=\"\")\n",
        "        # En caso contrario, se mostrará una o\n",
        "      else:\n",
        "        print(\" o \", end=\"\")"
      ],
      "metadata": {
        "id": "AX53Gja3X5oM"
      },
      "execution_count": null,
      "outputs": []
    },
    {
      "cell_type": "code",
      "source": [
        "#Proceso principal de N-Reinas\n",
        "def reinas(N, solucion=[], etapa=0):\n",
        "  # N-> Tamaño del tablero\n",
        "  # solucion-> Solución parcial\n",
        "  # etapa-> nº de reinas colocadas en la solución parcial\n",
        "\n",
        "  # La la longitud de la solución es 0, se crea una lista con el mismo número de 0 que el tamaño del tablero\n",
        "  if len(solucion) == 0:\n",
        "    solucion=[0 for i in range(N)]\n",
        "\n",
        "  # Recorremos todas las reinas\n",
        "  for i in range(1, N+1):\n",
        "    solucion[etapa] = i\n",
        "    # Con la función es_prometedora verificamos que la solución es válida para poder continuar\n",
        "    if es_prometedora(solucion, etapa):\n",
        "      # Si todas las reinas ya están colocadas, se devuelve la solución\n",
        "      if etapa == N-1:\n",
        "        print(f\"\\n\\nLa solución es: {solucion}\")\n",
        "        escribe_solucion(solucion)\n",
        "      else:\n",
        "        # En caso contrario, se vuelve a llamar a la función reinas\n",
        "        reinas(N, solucion, etapa+1)\n",
        "    else:\n",
        "      None\n",
        "\n",
        "      solucion[etapa] = 0"
      ],
      "metadata": {
        "id": "_4mU2vANi-j8"
      },
      "execution_count": null,
      "outputs": []
    },
    {
      "cell_type": "code",
      "source": [
        "reinas(4)"
      ],
      "metadata": {
        "colab": {
          "base_uri": "https://localhost:8080/"
        },
        "id": "EdEOuSljTbUo",
        "outputId": "a9e8a56b-a16e-4b16-fc7b-48392bce49e7"
      },
      "execution_count": null,
      "outputs": [
        {
          "output_type": "stream",
          "name": "stdout",
          "text": [
            "\n",
            "\n",
            "La solución es: [2, 4, 1, 3]\n",
            " \n",
            " o  o  X  o  \n",
            " X  o  o  o  \n",
            " o  o  o  X  \n",
            " o  X  o  o \n",
            "\n",
            "La solución es: [3, 1, 4, 2]\n",
            " \n",
            " o  X  o  o  \n",
            " o  o  o  X  \n",
            " X  o  o  o  \n",
            " o  o  X  o "
          ]
        }
      ]
    },
    {
      "cell_type": "code",
      "source": [],
      "metadata": {
        "id": "GPpIDnBQV9VO"
      },
      "execution_count": null,
      "outputs": []
    }
  ]
}