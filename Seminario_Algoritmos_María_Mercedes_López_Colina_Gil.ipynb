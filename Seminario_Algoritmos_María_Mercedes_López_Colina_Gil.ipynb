{
  "nbformat": 4,
  "nbformat_minor": 0,
  "metadata": {
    "colab": {
      "provenance": [],
      "include_colab_link": true
    },
    "kernelspec": {
      "name": "python3",
      "display_name": "Python 3"
    }
  },
  "cells": [
    {
      "cell_type": "markdown",
      "metadata": {
        "id": "view-in-github",
        "colab_type": "text"
      },
      "source": [
        "<a href=\"https://colab.research.google.com/github/mlopcgil/03MIAR---Algoritmos-de-Optimizacion/blob/main/Seminario_Algoritmos_Mar%C3%ADa_Mercedes_L%C3%B3pez_Colina_Gil.ipynb\" target=\"_parent\"><img src=\"https://colab.research.google.com/assets/colab-badge.svg\" alt=\"Open In Colab\"/></a>"
      ]
    },
    {
      "cell_type": "markdown",
      "metadata": {
        "id": "hVbXYX-RfPWh"
      },
      "source": [
        "# Algoritmos de optimización - Seminario<br>\n",
        "Nombre y Apellidos:   <br>\n",
        "Url: https://github.com/.../03MAIR---Algoritmos-de-Optimizacion---2019/tree/master/SEMINARIO<br>\n",
        "Problema:\n",
        ">3. Combinar cifras y operaciones\n",
        "\n",
        "**Descripción del problema:(copiar enunciado)**\n",
        "\n",
        "• El problema consiste en analizar el siguiente problema y diseñar un algoritmo que lo resuelva.\n",
        "\n",
        "• Disponemos de las 9 cifras del 1 al 9 (excluimos el cero) y de los 4 signos básicos de las operaciones fundamentales: suma(+), resta(-), multiplicación(*) y división(/).\n",
        "\n",
        "• Debemos combinarlos alternativamente sin repetir ninguno de ellos para obtener una cantidad\n",
        "dada.\n",
        "\n",
        "Debe analizarse el problema para encontrar todos los valores enteros posibles planteando las siguientes cuestiones:\n",
        "- ¿Qué valor máximo y mínimo se pueden obtener según las condiciones del problema?\n",
        "- ¿Es posible encontrar todos los valores enteros posibles entre dicho mínimo y máximo ?\n",
        "\n",
        "\n",
        "\n",
        "\n",
        "                                        "
      ]
    },
    {
      "cell_type": "markdown",
      "source": [
        "Es posible porque el espacio de búsqueda está acotado. En caso de números más grandes podría no ser posible porque este espacio de búsqueda crece de forma factorial y sería muy costoso hacer una exploración completa."
      ],
      "metadata": {
        "id": "n3DdhClQVbZ8"
      }
    },
    {
      "cell_type": "code",
      "metadata": {
        "id": "AiskKkzZfy4e"
      },
      "source": [],
      "execution_count": null,
      "outputs": []
    },
    {
      "cell_type": "markdown",
      "metadata": {
        "id": "3_-exlrTgLd-"
      },
      "source": [
        "**(*)¿Cuantas posibilidades hay sin tener en cuenta las restricciones?**<br>\n",
        "\n",
        "\n",
        "\n",
        "**¿Cuantas posibilidades hay teniendo en cuenta todas las restricciones.**\n",
        "\n",
        "\n"
      ]
    },
    {
      "cell_type": "markdown",
      "metadata": {
        "id": "WfCUqJyKhPcw"
      },
      "source": [
        "Sin tener en cuenta las restricciones, tenemos por un lado la lista de operadores donde hay que usar todos sin repetir ninguno y el orden importa por lo que estamos hablando de una permutación sin repetición. La fórmula es n! -> 4!\n",
        "\n",
        "Por otro lado, tenemos la lista de números de los cuáles sólo se usan 5, no se puede repetir ninguno y el orden también importa, por lo que en este caso es una variación sin repetición.\n",
        "La fórmula es ​\t$\\frac{m!}{(m-n)!}$ -> $\\frac{9!}{(9-5)!}$ -> $\\frac{9!}{4!}$\n",
        "\n",
        "Si juntamos los dos casos se quedaría en 9! porque el 4! de los operadores se va con el 4! que está diviendo de los números."
      ]
    },
    {
      "cell_type": "code",
      "metadata": {
        "id": "iq6Fe32MgpDX",
        "colab": {
          "base_uri": "https://localhost:8080/"
        },
        "outputId": "feec3abb-5a73-455d-a810-be26b23605e6"
      },
      "source": [
        "import math\n",
        "posibilidades = math.factorial(9)\n",
        "print(f\"El número de posibilidades que hay sin tener en cuenta las restricciones es {posibilidades}\")"
      ],
      "execution_count": null,
      "outputs": [
        {
          "output_type": "stream",
          "name": "stdout",
          "text": [
            "El número de posibilidades que hay sin tener en cuenta las restricciones es 362880\n"
          ]
        }
      ]
    },
    {
      "cell_type": "markdown",
      "metadata": {
        "id": "dzynfVJahHoY"
      },
      "source": [
        "**Modelo para el espacio de soluciones<br>\n",
        "(*) ¿Cual es la estructura de datos que mejor se adapta al problema? Argumentalo.(Es posible que hayas elegido una al principio y veas la necesidad de cambiar, arguentalo)**\n"
      ]
    },
    {
      "cell_type": "markdown",
      "metadata": {
        "id": "xFIJrOwKi2Ti"
      },
      "source": [
        "En un principio, pensé en utilizar una función de generador de sucesiones para ir apilando estados a una pila. Sin embargo, para simplificar la solución y no tener que hacer backtracking en la generación de sucesores, al final se han gererando estados de forma iterativa utilizando bucles anidados. De esta forma no se usa una pila de forma explícita, pero se usa de manera implícita con estas llamadas iterativas. De esta forma como se ha utilizado una pila de manera implícita el algoritmo implementado es de búsqueda en profundidad.\n",
        "\n",
        "Sin embargo, debido a las diferentes restricciones que existen en este problema, como que el parámetro de entrada siempre será entero, será más eficiente utilizar un algoritmo de ramificación y poda, ya que se va a reducir el espacio de búsqueda. \n",
        "\n",
        "Este algoritmo se caracteriza por eliminar definitivamente de la exploración las ramas que no van a mejorar las soluciones ya encontradas. En nuestro caso, eliminar aquellas que sabemos que no van a conseguir encontrar la combinación para dicho número. Gracias a esta técnica se reducen los cálculos y es una buena elección para problemas de gran tamaño como el aquí presente."
      ]
    },
    {
      "cell_type": "code",
      "metadata": {
        "id": "38c-7-ejhJmA"
      },
      "source": [],
      "execution_count": null,
      "outputs": []
    },
    {
      "cell_type": "markdown",
      "metadata": {
        "id": "7Z9U2W7bi-XS"
      },
      "source": [
        "**Según el modelo para el espacio de soluciones**<br>\n",
        "**(*)¿Cual es la función objetivo?**\n",
        "\n",
        "**(*)¿Es un problema de maximización o minimización?**"
      ]
    },
    {
      "cell_type": "markdown",
      "metadata": {
        "id": "hBalWLM7j1_d"
      },
      "source": [
        "Este ejercicio no es un problema de optimización sino que es un problema de búsqueda. Esto quiere decir que no existe una función objetivo como tal. Tampoco es un problema de maximización o minimización dado que no se busca maximizar o minimizar un rendimiento, beneficio o coste, sólo se quiere conocer una combinación que permita obtener un número concreto."
      ]
    },
    {
      "cell_type": "code",
      "metadata": {
        "id": "pDA-rg3Gj5Lz"
      },
      "source": [
        "\n"
      ],
      "execution_count": null,
      "outputs": []
    },
    {
      "cell_type": "markdown",
      "metadata": {
        "id": "rlnTYgY1j6I2"
      },
      "source": [
        "**Diseña un algoritmo para resolver el problema por fuerza bruta**"
      ]
    },
    {
      "cell_type": "markdown",
      "metadata": {
        "id": "70rDgxYXkC8r"
      },
      "source": [
        "Para diseñar un algoritmo de fuerza bruta, hay que crear una lista con las 9 cifras y con los 4 signos. Se tienen que generar todas las posibles combinaciones que existen de números y operadores. Se crea una lista vacía donde se van a introducir las expresiones que sean igual a la cantidad introducida y por último se devuelve esta lista.\n"
      ]
    },
    {
      "cell_type": "code",
      "metadata": {
        "id": "CJb5sQ0qkENy",
        "colab": {
          "base_uri": "https://localhost:8080/"
        },
        "outputId": "cca1675b-cf88-4a2f-c346-46ef66b5a932"
      },
      "source": [
        "import itertools\n",
        "nlist = [str(x) for x in range(1,10)]\n",
        "def fuerza_bruta(target):\n",
        "  counter = 0\n",
        "  solutions = []\n",
        "  operators = ['+', '-', '*', '/']\n",
        "  for c in itertools.permutations(nlist, 5):                        \n",
        "    for o in itertools.permutations(operators, 4):                                            \n",
        "      eq = '{}{}{}{}{}{}{}{}{}'.format(c[0], o[0], c[1], o[1], c[2], o[2], c[3], o[3], c[4])\n",
        "      res = eval(eq)\n",
        "      counter += 1\n",
        "      if res == target:\n",
        "        solutions.append(res)\n",
        "  return counter\n",
        "\n",
        "print(fuerza_bruta(90), math.factorial(9))"
      ],
      "execution_count": null,
      "outputs": [
        {
          "output_type": "stream",
          "name": "stdout",
          "text": [
            "362880 362880\n"
          ]
        }
      ]
    },
    {
      "cell_type": "markdown",
      "metadata": {
        "id": "tgrnsC2nkFa8"
      },
      "source": [
        "**Calcula la complejidad del algoritmo por fuerza bruta**"
      ]
    },
    {
      "cell_type": "markdown",
      "metadata": {
        "id": "9eUd3xwckP68"
      },
      "source": [
        "Este problema es computacionalmente costoso ya que hay muchas combinaciones y el algoritmo las recorre todas. El coste computacional, como hemos visto anteriormente en el primer apartado, es $\\frac{m!}{(m-n)!} * n!$, al probar todas las combinaciones se convierte en n!, en concreto en este caso 9!. Como se puede observar en el código, se ha intentado buscar un número que no se puede obtener con ninguna combinación, que, como veremos en el apartado siguiente, es el peor caso de este problema. Es por esto que se ha explorado al completo el espacio de estados ejecutándose 9! veces."
      ]
    },
    {
      "cell_type": "code",
      "metadata": {
        "id": "rvZWwL-ckRST"
      },
      "source": [],
      "execution_count": null,
      "outputs": []
    },
    {
      "cell_type": "markdown",
      "metadata": {
        "id": "txbrmLmskReM"
      },
      "source": [
        "**(*)Diseña un algoritmo que mejore la complejidad del algortimo por fuerza bruta. Argumenta porque crees que mejora el algoritmo por fuerza bruta**"
      ]
    },
    {
      "cell_type": "markdown",
      "metadata": {
        "id": "hLrVwt5QkZPD"
      },
      "source": [
        "Primero se crea una función para calcular el máximo y mínimo. Para ello:\n",
        "- Se crea una lista con los número del 1 al 9.\n",
        "- En el caso de los operadores, se establecen sólo 4 combinaciones, ya que el resto van a dar los mismos resultados. Sólo importan aquellos no conmutativos.\n",
        "-- El primer caso es que la multiplicación y la división están juntas. Ponemos por ejemplo A\\*B/C+D-E y establecemos A\\*B/C como un bloque ya que da igual el orden de esa operación que va a dar lo mismo. Por tanto A\\*B/C es Z, se quedaría la operación como Z+D-E. Aquí ya da igual donde coloques la suma y la resta que siempre dará el mismo resultado mientras la división y multiplicación estén juntas.\n",
        "-- El segundo caso es que la resta esté al lado de la división y la suma al lado de la multiplicación.\n",
        "-- El tercer caso, al contrario que el segundo, es que la suma esté al lado de la división de la división y la resta al lado de la multiplicación.\n",
        "-- El cuarto caso se diferencia del primero en que la resta se encuentra delante de la multiplicación y división por lo que hace el bloque Z negativo. En el primer caso se restaba solo un número.\n",
        "\n",
        "- Se establece un número muy alto para el resultado mínimo y un número muy bajo para el valor máximo.\n",
        "- Se recorre la lista de números indicando en los bucles siguientes que no deben contener el elemento ya cogido en el anterior, esto se hace 5 veces. Por último se recorre la lista de operadores. Aquí ya se establece la restricción de que el número tiene que ser un entero, si no lo es, se hace poda y no se sigue estudiando ese caso. En el caso de que sí lo sea, se hace la operación y el resultado se compara con el resultado mínimo ya existente. Si es menor, este se convierte en el nuevo mínimo valor. Lo mismo con el máximo. Una vez que se haya recorrido toda las posibilidades, los números que han quedado como máximo y mínimo serán los que devuelva la función.\n"
      ]
    },
    {
      "cell_type": "code",
      "metadata": {
        "id": "m1eyM21Vkabg",
        "colab": {
          "base_uri": "https://localhost:8080/"
        },
        "outputId": "1a3f1d27-8ae5-4ace-f1c2-1e063aa6e005"
      },
      "source": [
        "nlist = [str(x) for x in range(1,10)]\n",
        "\n",
        "def max_min():\n",
        "    operadores=[ [\"*\", \"/\", \"+\", \"-\"], [\"-\", \"/\", \"+\", \"*\"], [\"+\", \"/\", \"-\", \"*\"],[\"-\", \"/\", \"*\", \"+\"] ]\n",
        "    \n",
        "    res_min = float('inf') # establecemos como res_min un valor alto, el infinito\n",
        "    res_max = - float('inf')\n",
        "\n",
        "    for x1 in nlist:\n",
        "        for x2 in set(nlist) - set(x1): # para que no se coja como x2 el mismo valor que para x1 se convierten en conjuntos y se resta el de x1\n",
        "            for x3 in set(nlist) - set(x1) -set(x2): \n",
        "              if eval('(' + x2 +  ')%' + x3) == 0: # para saber si es un número entero                  \n",
        "                for x4 in set(nlist) - set(x1) - set(x2) - set(x3):                           \n",
        "                    for x5 in set(nlist) - set(x1) - set(x2) - set(x3) - set(x4):                         \n",
        "                        for o in operadores:                                            \n",
        "                            \n",
        "                          eq = '{}{}{}{}{}{}{}{}{}'.format(x1, o[0], x2, o[1], x3, o[2], x4, o[3], x5)\n",
        "                          res = eval(eq)\n",
        "                          res_min = min(res, res_min) # se hace el mínimo entre el resultado y el resultado mínimo actual\n",
        "                          res_max = max(res, res_max)\n",
        "    return res_min, res_max\n",
        "\n",
        "minimo, maximo = max_min()\n",
        "print(f\"El valor máximo que se puede obtener es {maximo} y el valor mínimo es {minimo}\")"
      ],
      "execution_count": null,
      "outputs": [
        {
          "output_type": "stream",
          "name": "stdout",
          "text": [
            "El valor máximo que se puede obtener es 77.0 y el valor mínimo es -69.0\n"
          ]
        }
      ]
    },
    {
      "cell_type": "markdown",
      "source": [
        "Una vez obtenidos el valor máximo y mínimo, se procede a crear la función que encuentre la combinación para un número concreto.\n",
        "\n",
        "Como valor de entrada, se pone el número del que deseamos encontrar la combinación.\n",
        "Sabiendo cuál es el valor máximo y mínimo, se pone una condición para que si se introduce valores que estén fuera de este rango, devuelva directamente None y no se meta en los diferentes bucles a buscar.\n",
        "\n",
        "En caso de que esté dentro de este rango, el procedimiento es el mismo que la función de máximo y mínimo. Sólo que aquí se crea una lista para introducir todos los estados que no incumplan ninguna restricción. \n",
        "\n",
        "Se estudia una combinación y se mira si es igual al valor de entrada. Si es el mismo devolverá esa combinación y la longitud de la lista states que indica el número de combinaciones que se han estudiado antes de llegar al objetivo.\n",
        "\n",
        "Como se puede ver, primero se elige una combinación, esta no va a ser secuencial, ya que al convertir la lista en conjuntos, se altera el orden de los números. Pongamos el primer estado es 1*7/3+5-2. Los hijos serían las diferentes alternativas que se pueden hacer con esa operación. Primero se cambiará los operadores de orden con las otras 3 alternativas y después se irá a los números donde se empezará cambiando el 2 por los 4 valores restantes.\n",
        "\n",
        "La restricción que se pone es que el valor resultante sea entero para evaluarlo. Si nos fijamos, las cuatro posibilidades tienen el operador de la división en la segunda posición. Por tanto, la restricción se basa en saber si el resto de la división entre x2 y x3 es 0 para evaluar si es entero o no. Puede ocurrir que quitemos una combinación que realmente sea entera al encontrarnos por ejemplo con el caso de 1+2/3\\*6-7 que da igual a 4, pero la estamos eliminando porque 2/3 no es entero. Sin embargo, esto no es un problema porque, aunque se descarte esta operación, cuando los números estén cambiados y salga la opción de 1+6/3\\*2-7, esta sí se cogerá."
      ],
      "metadata": {
        "id": "xftsQS01zhWN"
      }
    },
    {
      "cell_type": "code",
      "source": [
        "def buscar(target):\n",
        "    if target > 77 or target < -69: # si está fuera del rango, devuelve None\n",
        "        return None\n",
        "    states = []\n",
        "    operadores=[ [\"*\", \"/\", \"+\", \"-\"], [\"-\", \"/\", \"+\", \"*\"], [\"+\", \"/\", \"-\", \"*\"],[\"-\", \"/\", \"*\", \"+\"] ]\n",
        "    numeros_divisores = [1,2,3,4] # números que pueden ser divisor que otro menor de 10\n",
        "\n",
        "    for x1 in nlist:\n",
        "        for x2 in set(nlist) - set(x1): \n",
        "            for x3 in set(numeros_divisores) - set(x1) -set(x2)): # como la división siempre está en segunda posición\n",
        "              if eval('(' + x2 +  ')%' + x3) == 0:                   \n",
        "                for x4 in set(nlist) - set(x1) - set(x2) - set(x3):                           \n",
        "                    for x5 in set(nlist) - set(x1) - set(x2) - set(x3) - set(x4):                         \n",
        "                        for o in operadores:                            \n",
        "                          eq = '{}{}{}{}{}{}{}{}{}'.format(x1, o[0], x2, o[1], x3, o[2], x4, o[3], x5)\n",
        "                          states.append([x1, x2, x3, x4, x5]) # en caso de que sea número entero, se introduce a la lista\n",
        "                          res = eval(eq)\n",
        "                          if res == target: # si es el resultado que se estaba buscando, se devuelve y no se sigue estudiando más casos\n",
        "                              return eq, len(states) "
      ],
      "metadata": {
        "id": "yZtPAhtXtMSJ"
      },
      "execution_count": null,
      "outputs": []
    },
    {
      "cell_type": "code",
      "source": [
        "buscar(46)"
      ],
      "metadata": {
        "colab": {
          "base_uri": "https://localhost:8080/"
        },
        "id": "ouNaAvgsspka",
        "outputId": "13733c64-e8b8-4395-9c42-3213839cd386"
      },
      "execution_count": null,
      "outputs": [
        {
          "output_type": "execute_result",
          "data": {
            "text/plain": [
              "('1-9/3+6*8', 626)"
            ]
          },
          "metadata": {},
          "execution_count": 7
        }
      ]
    },
    {
      "cell_type": "markdown",
      "source": [
        "Este algoritmo mejora al de fuerza bruta porque se hace una poda de todas las combinaciones de números y operadores que producen resultados no enteros. De esta forma, la complejidad de fuerza bruta es mayor que la de este algoritmo porque se prueban combinaciones que nunca van a llegar a ningún resultado. También se ha reducido el tiempo de ejecución por este mismo motivo. "
      ],
      "metadata": {
        "id": "OInLrLU8vA3v"
      }
    },
    {
      "cell_type": "markdown",
      "metadata": {
        "id": "eGDB4K6uk1iN"
      },
      "source": [
        "**(*)Calcula la complejidad del algoritmo**"
      ]
    },
    {
      "cell_type": "markdown",
      "metadata": {
        "id": "NhpTh_BPk1ms"
      },
      "source": [
        "Como se puede ver en el código, en el primer bucle se recorre 9 números, en el segundo 8 y así sucesivamente. Esto lo convierte en un principio en 9! Sin embargo, esto sólo llega hasta el 5 en números y luego 4 con los operadores. Por lo que en el peor de los casos, que es tener que recorrer todos los bucles, la complejidad sería de $\\frac{9!}{3!}$. Pero contando que muchos de ellos darán que no es un número entero, todas esas sólo estudiarán un $\\frac{9!}{6!}$"
      ]
    },
    {
      "cell_type": "code",
      "metadata": {
        "id": "nREzhkStlCq8"
      },
      "source": [],
      "execution_count": null,
      "outputs": []
    },
    {
      "cell_type": "markdown",
      "metadata": {
        "id": "3M6QjTsSkmYe"
      },
      "source": [
        "**Según el problema (y tenga sentido), diseña un juego de datos de entrada aleatorios**"
      ]
    },
    {
      "cell_type": "markdown",
      "metadata": {
        "id": "zy5ZROmjlGo1"
      },
      "source": [
        "**Aplica el algoritmo al juego de datos generado**\n"
      ]
    },
    {
      "cell_type": "markdown",
      "metadata": {
        "id": "Jc3_OlyNkvjZ"
      },
      "source": [
        "En este problema no tiene sentido realizar estos apartados."
      ]
    },
    {
      "cell_type": "code",
      "metadata": {
        "id": "Jkx8GeiYlUz1"
      },
      "source": [],
      "execution_count": null,
      "outputs": []
    },
    {
      "cell_type": "markdown",
      "metadata": {
        "id": "eTFWUJQrtGcv"
      },
      "source": [
        "**Enumera las referencias que has utilizado(si ha sido necesario) para llevar a cabo el trabajo**"
      ]
    },
    {
      "cell_type": "markdown",
      "metadata": {
        "id": "YKQ_mRBttWsP"
      },
      "source": [
        "He utilizado el manual de la asignatura para estudiar en profundidad los diferentes tipos de algoritmos y elegir el que mejor se adaptara al problema planteado y he usado varias funciones de python como eval o la librería itertools para la función permutations."
      ]
    },
    {
      "cell_type": "markdown",
      "metadata": {
        "id": "kAkDPUyRtYyH"
      },
      "source": [
        "**Describe brevemente las lineas de como crees que es posible avanzar en el estudio del problema. Ten en cuenta incluso posibles variaciones del problema y/o variaciones al alza del tamaño**"
      ]
    },
    {
      "cell_type": "markdown",
      "metadata": {
        "id": "IE0uZmo-tZu-"
      },
      "source": [
        "Se podría mejorar la eficiciencia aplicando técnicas de programación dinámica teniendo en cuenta la precedencia de operadores aritméticos, para ir almacenando los resultados de las operaciones más pequeñas."
      ]
    }
  ]
}