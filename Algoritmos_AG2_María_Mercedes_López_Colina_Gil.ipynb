{
  "nbformat": 4,
  "nbformat_minor": 0,
  "metadata": {
    "colab": {
      "provenance": [],
      "authorship_tag": "ABX9TyPig7+Phy5uCB3niCRmQ5qa",
      "include_colab_link": true
    },
    "kernelspec": {
      "name": "python3",
      "display_name": "Python 3"
    },
    "language_info": {
      "name": "python"
    }
  },
  "cells": [
    {
      "cell_type": "markdown",
      "metadata": {
        "id": "view-in-github",
        "colab_type": "text"
      },
      "source": [
        "<a href=\"https://colab.research.google.com/github/mlopcgil/03MIAR---Algoritmos-de-Optimizacion/blob/main/Algoritmos_AG2_Mar%C3%ADa_Mercedes_L%C3%B3pez_Colina_Gil.ipynb\" target=\"_parent\"><img src=\"https://colab.research.google.com/assets/colab-badge.svg\" alt=\"Open In Colab\"/></a>"
      ]
    },
    {
      "cell_type": "markdown",
      "source": [
        "#AG2 - Actividad Guiada 2\n",
        "Nombre: María Mercedes López-Colina Gil <br>\n",
        "Link:   https://colab.research.google.com/drive/1YGs9DKGCXkGZarps0wiXe7NSbFzJShSu?usp=sharing <br>\n",
        "Github: https://github.com/mlopcgil/03MIAR---Algoritmos-de-Optimizacion\n",
        "<br>\n"
      ],
      "metadata": {
        "id": "wgCLAe-7eRXt"
      }
    },
    {
      "cell_type": "markdown",
      "source": [
        "##Viaje por el río"
      ],
      "metadata": {
        "id": "KDSSnGfXcMW9"
      }
    },
    {
      "cell_type": "code",
      "execution_count": null,
      "metadata": {
        "id": "ypFI5_6EdyaA"
      },
      "outputs": [],
      "source": [
        "import math"
      ]
    },
    {
      "cell_type": "code",
      "source": [
        "coste = [\n",
        "[0,5,4,3,float(\"inf\"),float(\"inf\"),float(\"inf\")],   #desde nodo 0\n",
        "[float(\"inf\"),0,float(\"inf\"),2,3,float(\"inf\"),11],  #desde nodo 1\n",
        "[float(\"inf\"),float(\"inf\"), 0,1,float(\"inf\"),4,10], #desde nodo 2\n",
        "[float(\"inf\"),float(\"inf\"),float(\"inf\"), 0,5,6,9],\n",
        "[float(\"inf\"),float(\"inf\"), float(\"inf\"),float(\"inf\"),0,float(\"inf\"),4],\n",
        "[float(\"inf\"),float(\"inf\"), float(\"inf\"),float(\"inf\"),float(\"inf\"),0,3],\n",
        "[float(\"inf\"),float(\"inf\"),float(\"inf\"),float(\"inf\"),float(\"inf\"),float(\"inf\"),0]\n",
        "]\n",
        "\n",
        "# cada una de las filas representa la distancia de un nodo al resto. \n",
        "# Se empieza en el 0, cuando la distancia es grande se añade el número infinito para que ese camino no se coja.\n",
        "# Por ejemplo, desde el nodo 0 hay 5 para llegar a 1, 4 para llegar a 2, 3 para llegar a 3, \n",
        "# pero para el resto de nodos hay que pasar por uno de estos anteriores para llegar a ellos\n",
        "# por tanto, se pone como infinito.\n",
        "\n",
        "coste"
      ],
      "metadata": {
        "colab": {
          "base_uri": "https://localhost:8080/"
        },
        "id": "NYJs29wPebK8",
        "outputId": "ea354831-bb59-4da0-fc1b-7a41ff0c76d2"
      },
      "execution_count": null,
      "outputs": [
        {
          "output_type": "execute_result",
          "data": {
            "text/plain": [
              "[[0, 5, 4, 3, inf, inf, inf],\n",
              " [inf, 0, inf, 2, 3, inf, 11],\n",
              " [inf, inf, 0, 1, inf, 4, 10],\n",
              " [inf, inf, inf, 0, 5, 6, 9],\n",
              " [inf, inf, inf, inf, 0, inf, 4],\n",
              " [inf, inf, inf, inf, inf, 0, 3],\n",
              " [inf, inf, inf, inf, inf, inf, 0]]"
            ]
          },
          "metadata": {},
          "execution_count": 1
        }
      ]
    },
    {
      "cell_type": "code",
      "source": [
        "def Precios(coste):\n",
        "\n",
        "  #Total de Nodos\n",
        "  N = len(coste[0])\n",
        "  \n",
        "  #Se inicializa la variables precios con una matriz de infinitos que contenga tantas \n",
        "  #filas y columnas como nodos haya\n",
        "  #En la variable ruta se añaden los intermedios\n",
        "  precios_ = [ [float(\"inf\")]*N for i in [float(\"inf\")]*N]  #n x n \n",
        "  ruta = [ [\"\"]*N for i in [\"\"]*N]\n",
        "  \n",
        "  #Con la variable i se representa el nodo desde y j el nodo hasta, así se recorren \n",
        "  # todos los nodos y se construye la matriz de precios\n",
        "  \n",
        "  for i in range(N-1): # el nodo desde\n",
        "    for j in range(i+1, N): # el nodo hasta, como es siempre en descenso, siempre se le suma uno más al nodo\n",
        "      minimo = coste[i][j]\n",
        "      ruta[i][j] = i\n",
        "      \n",
        "      for k in range(i, j): \n",
        "        # los nodos intermedios, por ejemplo si queremos pasar del nodo 0 al 3, los intermedios serán el 1 y 2\n",
        "        if precios_[i][k] + coste[k][j] < minimo: \n",
        "          # Si es menor que el mínimo ya establecido, se sustituye y se convierte en el nuevo mínimo\n",
        "            minimo = min(minimo, precios_[i][k] + coste[k][j] )\n",
        "            ruta[i][j] = k # en la variable ruta se añade el nodo intermedio\n",
        "        precios_[i][j] = minimo # en precios el valor mínimo\n",
        "        \n",
        "  return precios_, ruta\n",
        "\n",
        "Precios(coste)"
      ],
      "metadata": {
        "colab": {
          "base_uri": "https://localhost:8080/"
        },
        "id": "Jpuk9ByAhWxF",
        "outputId": "f71b6430-395a-4d46-af2a-4c3ea93e1c97"
      },
      "execution_count": null,
      "outputs": [
        {
          "output_type": "execute_result",
          "data": {
            "text/plain": [
              "([[inf, 5, 4, 3, 8, 8, 11],\n",
              "  [inf, inf, inf, 2, 3, 8, 7],\n",
              "  [inf, inf, inf, 1, 6, 4, 7],\n",
              "  [inf, inf, inf, inf, 5, 6, 9],\n",
              "  [inf, inf, inf, inf, inf, inf, 4],\n",
              "  [inf, inf, inf, inf, inf, inf, 3],\n",
              "  [inf, inf, inf, inf, inf, inf, inf]],\n",
              " [['', 0, 0, 0, 1, 2, 5],\n",
              "  ['', '', 1, 1, 1, 3, 4],\n",
              "  ['', '', '', 2, 3, 2, 5],\n",
              "  ['', '', '', '', 3, 3, 3],\n",
              "  ['', '', '', '', '', 4, 4],\n",
              "  ['', '', '', '', '', '', 5],\n",
              "  ['', '', '', '', '', '', '']])"
            ]
          },
          "metadata": {},
          "execution_count": 3
        }
      ]
    },
    {
      "cell_type": "markdown",
      "source": [
        "En la ruta se muestra los nodos por los que hay que pasar para llegar de un nodo a otro específico. Por ejemplo, la primera fila representa el nodo 0 donde se indica que para ir del nodo 0 al 4 (posición 4 en la fila) hay que pasar por el nodo 1."
      ],
      "metadata": {
        "id": "7DcJ9hBXuZTQ"
      }
    },
    {
      "cell_type": "code",
      "source": [
        "precios ,ruta = Precios(coste)"
      ],
      "metadata": {
        "id": "jPBq60z6mX3o"
      },
      "execution_count": null,
      "outputs": []
    },
    {
      "cell_type": "code",
      "source": [
        "#Calculo de la ruta usando la matriz ruta\n",
        "def calcular_ruta(ruta, desde, hasta):\n",
        "  if desde == ruta[desde][hasta]: \n",
        "    # si el nodo de partida es igual al de llegada, directamente devuelve ese nodo\n",
        "    return desde \n",
        "  else:\n",
        "    return str(calcular_ruta(ruta, desde, ruta[desde][hasta])) +  ',' + str(ruta[desde][hasta]) \n",
        "    # en caso contrario se llama a la función calcular_ruta\n",
        "\n",
        "\n",
        "print(f\"\\nLa ruta es: {calcular_ruta(ruta, 2,6)}\")"
      ],
      "metadata": {
        "colab": {
          "base_uri": "https://localhost:8080/"
        },
        "id": "V87VtnnviGza",
        "outputId": "fe97701e-4af2-41e8-f0f7-f7199aca8132"
      },
      "execution_count": null,
      "outputs": [
        {
          "output_type": "stream",
          "name": "stdout",
          "text": [
            "\n",
            "La ruta es: 2,5\n"
          ]
        }
      ]
    },
    {
      "cell_type": "code",
      "source": [],
      "metadata": {
        "id": "OcnrgMEgkjVy"
      },
      "execution_count": null,
      "outputs": []
    },
    {
      "cell_type": "markdown",
      "source": [
        "##Problema de Asignacion de tarea"
      ],
      "metadata": {
        "id": "1vdJpK0Ip18I"
      }
    },
    {
      "cell_type": "code",
      "source": [
        "#    T A R E A \n",
        "#   A\n",
        "#   G\n",
        "#   E\n",
        "#   N\n",
        "#   T\n",
        "#   E\n",
        "\n",
        "COSTES=[[11,12,18,40],\n",
        "        [14,15,13,22],\n",
        "        [11,17,19,23],\n",
        "        [17,14,20,28]]"
      ],
      "metadata": {
        "id": "uTpSrMrhp2Yv"
      },
      "execution_count": null,
      "outputs": []
    },
    {
      "cell_type": "code",
      "source": [
        "#Calculo del valor de una solucion parcial\n",
        "def valor(asignacion,COSTES):\n",
        "  # asignacion es una tupla donde se escribe el orden en el que son asignadas las tareas\n",
        "  valor_ = 0 # la variable valor se inicializa en 0\n",
        "  for i in range(len(asignacion)): \n",
        "    # Se va recorriendo la tupla y sumando a la variable valor el coste que corresponde \n",
        "    # de haber asignado una determinada tarea al correspondiente agente\n",
        "    valor_ += COSTES[asignacion[i]][i] \n",
        "  return valor_\n",
        "\n",
        "\n",
        "# sirve para saber cuál es el coste de haber seleccionado las tareas de una forma concreta\n",
        "# Por ejemplo el coste de haber asignado la tarea 0 al agente 2, la 1 al agente 0, \n",
        "# la 2 al agente 1 y la 3 al agente 3 es 64\n",
        "valor((2, 0, 1, 3),COSTES)"
      ],
      "metadata": {
        "colab": {
          "base_uri": "https://localhost:8080/"
        },
        "id": "R3EAx_w8p6eA",
        "outputId": "d6c1b7cf-5c11-416d-ed88-699274581440"
      },
      "execution_count": null,
      "outputs": [
        {
          "output_type": "execute_result",
          "data": {
            "text/plain": [
              "64"
            ]
          },
          "metadata": {},
          "execution_count": 10
        }
      ]
    },
    {
      "cell_type": "code",
      "source": [
        "# Estas funciones sirven para calcular el coste inferior y superior de las soluciones parciales\n",
        "# Funciona al revés que la función variable, ya que en este caso la tupla se interpreta \n",
        "# mirando el número como la tarea y la posición como el agente\n",
        "# De esta manera, (1,2,) significa que se asigna la tarea 1 al agente 0 y la tarea 2 al agente 1\n",
        "\n",
        "def coste_inferior(asignacion,COSTES):\n",
        "  valor_ = 0\n",
        "  #Valores establecidos\n",
        "  for i in range(len(asignacion)):\n",
        "    valor_ += COSTES[i][asignacion[i]]\n",
        "\n",
        "  #Estimacion\n",
        "  for i in range(len(asignacion), len(COSTES)):\n",
        "    valor_ += min([COSTES[j][i] for j in range(len(asignacion), len(COSTES))]) \n",
        "    # aquí se calcula el mínimo al ser coste inferior\n",
        "  return valor_\n",
        "\n",
        "def coste_superior(asignacion,COSTES):\n",
        "  valor_ = 0\n",
        "  #Valores establecidos\n",
        "  for i in range(len(asignacion)):\n",
        "    valor_ += COSTES[i][asignacion[i]]\n",
        "\n",
        "  #Estimacion\n",
        "  \n",
        "  for i in range(len(asignacion), len(COSTES)):\n",
        "    valor_ += max([COSTES[j][i] for j in range(len(asignacion), len(COSTES))]) \n",
        "    # en este caso el máximo al ser el coste superior\n",
        "  return valor_\n",
        "\n",
        "print(coste_inferior((1,2),COSTES))\n",
        "print(coste_superior((1,2),COSTES))"
      ],
      "metadata": {
        "colab": {
          "base_uri": "https://localhost:8080/"
        },
        "id": "bDsnNQOTp-KZ",
        "outputId": "1d48413e-7a40-4efa-ba5f-3775be3a1d26"
      },
      "execution_count": null,
      "outputs": [
        {
          "output_type": "stream",
          "name": "stdout",
          "text": [
            "67\n",
            "73\n"
          ]
        }
      ]
    },
    {
      "cell_type": "code",
      "source": [
        "#Genera tantos hijos como posibilidades haya para el siguiente elemento de la tupla, permite expandir el árbol\n",
        "# Por ejemplo, para la solución principal de haber asignado el valor 0 al agente 0, \n",
        "# las diferentes posibilidades que existen (0,) -> (0,1), (0,2), (0,3)\n",
        "def crear_hijos(NODO, N):\n",
        "  hijos = []\n",
        "  for i in range(N ):\n",
        "    if i not in NODO: \n",
        "      # se mira que el número dentro del rango N no sea ya un elemento de la tupla y se añade a la lista hijos\n",
        "      hijos.append({'s':NODO +(i,)}) # que va a contener las diferentes opciones en diccionarios\n",
        "  return hijos"
      ],
      "metadata": {
        "id": "cU2Zo5OCqjrh"
      },
      "execution_count": null,
      "outputs": []
    },
    {
      "cell_type": "code",
      "source": [
        "crear_hijos((0,) , 4)"
      ],
      "metadata": {
        "colab": {
          "base_uri": "https://localhost:8080/"
        },
        "id": "BHCsPcGcqmiZ",
        "outputId": "edd281c0-dfae-4dce-b5ea-03dee785c93d"
      },
      "execution_count": null,
      "outputs": [
        {
          "output_type": "execute_result",
          "data": {
            "text/plain": [
              "[{'s': (0, 1)}, {'s': (0, 2)}, {'s': (0, 3)}]"
            ]
          },
          "metadata": {},
          "execution_count": 14
        }
      ]
    },
    {
      "cell_type": "code",
      "source": [
        "def ramificacion_y_poda(COSTES):\n",
        "#Construccion iterativa de soluciones(arbol). En cada etapa asignamos un agente(ramas).\n",
        "\n",
        "  DIMENSION = len(COSTES)  # la variable dimension es la longitud de la variable costes\n",
        "  MEJOR_SOLUCION=tuple( i for i in range(len(COSTES)) ) \n",
        "  # esta variable es una tupla creada por los elemento comprendidos dentro del rango de dimension\n",
        "  CotaSup = valor(MEJOR_SOLUCION,COSTES) \n",
        "  # utilizamos la función valor para saber el coste de haber seleccionado las tareas de esa forma\n",
        "\n",
        "\n",
        "  NODOS=[]\n",
        "  NODOS.append({'s':(), 'coste inferior':coste_inferior((),COSTES)    } )\n",
        "\n",
        "  iteracion = 0 # se inicializa la variable iteracion en 0\n",
        "\n",
        "  while( len(NODOS) > 0): # mientras que la longitud de la lista nodos sea mayor que 0\n",
        "    iteracion +=1 # se suma 1 a la variable iteracion\n",
        "\n",
        "    nodo_prometedor = [ min(NODOS, key=lambda x:x['coste inferior']) ][0]['s']\n",
        "\n",
        "    #Se generan los hijos\n",
        "    HIJOS =[ {'s':x['s'], 'coste inferior':coste_inferior(x['s'], COSTES)   } for x in crear_hijos(nodo_prometedor, DIMENSION) ]\n",
        "\n",
        "    #Revisamos la cota superior y nos quedamos con la mejor solucion si llegamos a una solucion final\n",
        "    NODO_FINAL = [x for x in HIJOS if len(x['s']) == DIMENSION  ]\n",
        "    if len(NODO_FINAL ) >0: \n",
        "      if NODO_FINAL[0]['coste inferior'] < CotaSup:\n",
        "        CotaSup = NODO_FINAL[0]['coste inferior']\n",
        "        MEJOR_SOLUCION = NODO_FINAL\n",
        " \n",
        "    # Aquí se realiza la poda cogiendo aquellos que sean menor que la cota superior\n",
        "    HIJOS = [x for x in HIJOS if x['coste inferior'] < CotaSup   ]\n",
        "\n",
        "    #Añadimos los hijos \n",
        "    NODOS.extend(HIJOS) \n",
        "\n",
        "    #Eliminamos el nodo ramificado\n",
        "    NODOS =  [  x for x in NODOS if x['s'] != nodo_prometedor    ]\n",
        "   \n",
        "  print(\"La solucion final es:\" ,MEJOR_SOLUCION , \" en \" , iteracion , \" iteraciones\" , \" para dimension: \" ,DIMENSION  )\n",
        "      \n",
        "\n",
        "\n",
        "ramificacion_y_poda(COSTES)"
      ],
      "metadata": {
        "colab": {
          "base_uri": "https://localhost:8080/"
        },
        "id": "UnluGIxzqo7Z",
        "outputId": "5a2890c0-54ff-4bb6-8816-43578c657533"
      },
      "execution_count": null,
      "outputs": [
        {
          "output_type": "stream",
          "name": "stdout",
          "text": [
            "La solucion final es: [{'s': (1, 2, 0, 3), 'coste inferior': 64}]  en  10  iteraciones  para dimension:  4\n"
          ]
        }
      ]
    },
    {
      "cell_type": "code",
      "source": [],
      "metadata": {
        "id": "qHW-Awxoqtso"
      },
      "execution_count": null,
      "outputs": []
    }
  ]
}